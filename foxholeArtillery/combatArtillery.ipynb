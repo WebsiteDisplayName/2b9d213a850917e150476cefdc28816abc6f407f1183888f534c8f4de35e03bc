{
 "cells": [
  {
   "cell_type": "code",
   "execution_count": null,
   "metadata": {},
   "outputs": [],
   "source": [
    "import spotterArtillery as sa"
   ]
  },
  {
   "cell_type": "code",
   "execution_count": null,
   "metadata": {},
   "outputs": [],
   "source": [
    "# spotterArtillery()\n",
    "# Use case:\n",
    "    # 1 gun\n",
    "    # significant distance between spotter & gun\n",
    "\n",
    "# To use:\n",
    "    # uncomment function with <CTRL + L>\n",
    "    # Change variables\n",
    "    # <Shift + Enter> to run cell\n",
    "\n",
    "# input variables\n",
    "    # (spotterToTargetAzimuth, spotterToTargetDistance, spotterToGunAzimuth, spotterToGunDistance, windAzimuth, windForce)\n",
    "    \n",
    "    # weaponType: 1 = 120mm & 150mm\n",
    "    # weaponType: 2 = storm cannon\n",
    "    # weaponType: 3 = mortar\n",
    "\n",
    "    # note can only take windForce values 1-3, when wind drift data is collected for wind 4 and 5, add to windForceMetersArray in findWindAdjustedGunToTargetAziDist function\n",
    "    # press <Space> to scroll to bottom to see output\n",
    "\n",
    "# sa.spotterArtillery(209,92,320,50,90,3,1)"
   ]
  },
  {
   "cell_type": "code",
   "execution_count": null,
   "metadata": {},
   "outputs": [],
   "source": [
    "# noSpotterArtillery()\n",
    "# Use case:\n",
    "    # 1 gun or (neglible distance between spotter & gun)\n",
    "\n",
    "# To use:\n",
    "    # uncomment function with <CTRL + L>\n",
    "    # Change variables\n",
    "    # <Shift + Enter> to run cell\n",
    "\n",
    "# input variables\n",
    "    # (unadjustedGunToTargetAzimuth, unadjustedGunToTargetDistance, windAzimuth, windForce, weaponType)\n",
    "\n",
    "    # weaponType: 1 = 120mm & 150mm\n",
    "    # weaponType: 2 = storm cannon\n",
    "    # weaponType: 3 = mortar\n",
    "    \n",
    "    # note can only take windForce values 1-3, when wind drift data is collected for wind 4 and 5, add to windForceMetersArray in findWindAdjustedGunToTargetAziDist function\n",
    "    # press <Space> to scroll to bottom to see output\n",
    "\n",
    "\n",
    "# sa.noSpotterArtillery(171.6,710,315,3,2)"
   ]
  },
  {
   "cell_type": "code",
   "execution_count": null,
   "metadata": {},
   "outputs": [],
   "source": [
    "# multipleGunSpotterArtillery()\n",
    "# Use case:\n",
    "    # multiple guns with significant distance betweens guns and (significant distance between spotter and gun)\n",
    "\n",
    "# To use:\n",
    "    # uncomment function with <CTRL + L>\n",
    "    # Change variables\n",
    "    # <Shift + Enter> to run cell\n",
    "\n",
    "# input variables\n",
    "    # (spotterToTargetAzimuth, spotterToTargetDistance, spotterToGunAzimuth, spotterToGunDistance, windAzimuth, windForce, weaponType)\n",
    "\n",
    "    # weaponType: 1 = 120mm & 150mm\n",
    "    # weaponType: 2 = storm cannon\n",
    "    # weaponType: 3 = mortar\n",
    "    \n",
    "    # argument 3: takes an array, which is composed of [spotterToGun1Azi, spotterToGun1Dist, spotterToGun2Azi, spotterToGun2Dist, ...]\n",
    "    \n",
    "    # note can only take wind values 1-3, when wind drift data is collected for wind 4 and 5, add to windForceMetersArray in findWindAdjustedGunToTargetAziDist function\n",
    "    # press <Space> to scroll to bottom to see output\n",
    "\n",
    "\n",
    "# sa.multipleGunSpotterArtillery(254,65,[173,50,250,50],124,3,3)"
   ]
  }
 ],
 "metadata": {
  "language_info": {
   "name": "python"
  },
  "orig_nbformat": 4
 },
 "nbformat": 4,
 "nbformat_minor": 2
}
