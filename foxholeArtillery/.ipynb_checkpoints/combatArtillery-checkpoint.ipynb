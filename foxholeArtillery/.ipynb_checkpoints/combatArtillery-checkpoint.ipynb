{
 "cells": [
  {
   "cell_type": "code",
   "execution_count": 1,
   "metadata": {},
   "outputs": [
    {
     "data": {
      "text/html": [
       "<style>.container { width:100% !important; }</style>"
      ],
      "text/plain": [
       "<IPython.core.display.HTML object>"
      ]
     },
     "metadata": {},
     "output_type": "display_data"
    }
   ],
   "source": [
    "import spotterArtillery as sa\n",
    "# spotterArtillery()\n",
    "# Use case:\n",
    "    # 1 gun\n",
    "    # significant distance between spotter & gun\n",
    "\n",
    "# To use:\n",
    "    # uncomment function with <CTRL + L>\n",
    "    # Change variables\n",
    "    # <Shift + Enter> to run cell\n",
    "\n",
    "# input variables\n",
    "    # (spotterToTargetAzimuth, spotterToTargetDistance, spotterToGunAzimuth, spotterToGunDistance, windAzimuth, windForce, weaponType)\n",
    "    \n",
    "    # weaponType: 1 = 120mm & 150mm\n",
    "    # weaponType: 2 = storm cannon\n",
    "    # weaponType: 3 = mortar\n",
    "\n",
    "    # note can only take windForce values 1-3, when wind drift data is collected for wind 4 and 5, add to windForceMetersArray in findWindAdjustedGunToTargetAziDist function\n",
    "    # press <Space> to scroll to bottom to see output\n",
    "\n",
    "# sa.spotterArtillery(209,92,320,50,90,3,1)"
   ]
  },
  {
   "cell_type": "code",
   "execution_count": 2,
   "metadata": {},
   "outputs": [],
   "source": [
    "import spotterArtillery as sa\n",
    "# noSpotterArtillery()\n",
    "# Use case:\n",
    "    # 1 gun or (neglible distance between spotter & gun)\n",
    "\n",
    "# To use:\n",
    "    # uncomment function with <CTRL + L>\n",
    "    # Change variables\n",
    "    # <Shift + Enter> to run cell\n",
    "\n",
    "# input variables\n",
    "    # (unadjustedGunToTargetAzimuth, unadjustedGunToTargetDistance, windAzimuth, windForce, weaponType)\n",
    "\n",
    "    # weaponType: 1 = 120mm & 150mm\n",
    "    # weaponType: 2 = storm cannon\n",
    "    # weaponType: 3 = mortar\n",
    "    \n",
    "    # note can only take windForce values 1-3, when wind drift data is collected for wind 4 and 5, add to windForceMetersArray in findWindAdjustedGunToTargetAziDist function\n",
    "    # press <Space> to scroll to bottom to see output\n",
    "\n",
    "\n",
    "# sa.noSpotterArtillery(171.6,710,315,3,2)"
   ]
  },
  {
   "cell_type": "code",
   "execution_count": 3,
   "metadata": {},
   "outputs": [],
   "source": [
    "import spotterArtillery as sa\n",
    "# multipleGunSpotterArtillery()\n",
    "# Use case:\n",
    "    # multiple guns with significant distance betweens guns and (significant distance between spotter and gun)\n",
    "\n",
    "# To use:\n",
    "    # uncomment function with <CTRL + L>\n",
    "    # Change variables\n",
    "    # <Shift + Enter> to run cell\n",
    "\n",
    "# input variables\n",
    "    # (spotterToTargetAzimuth, spotterToTargetDistance, spotterToGunAzimuth, spotterToGunDistance, windAzimuth, windForce, weaponType)\n",
    "\n",
    "    # weaponType: 1 = 120mm & 150mm\n",
    "    # weaponType: 2 = storm cannon\n",
    "    # weaponType: 3 = mortar\n",
    "    \n",
    "    # argument 3: takes an array, which is composed of [spotterToGun1Azi, spotterToGun1Dist, spotterToGun2Azi, spotterToGun2Dist, ...]\n",
    "    \n",
    "    # note can only take wind values 1-3, when wind drift data is collected for wind 4 and 5, add to windForceMetersArray in findWindAdjustedGunToTargetAziDist function\n",
    "    # press <Space> to scroll to bottom to see output\n",
    "\n",
    "\n",
    "# sa.multipleGunSpotterArtillery(254,65,[173,50,250,50],124,3,3)"
   ]
  },
  {
   "cell_type": "code",
   "execution_count": 4,
   "metadata": {},
   "outputs": [],
   "source": [
    "# All functions below are experimental\n",
    "# They all calculate implied windAzimuth and implied windForce for the wind adjusted values\n",
    "# They are the implied versions of the above functions"
   ]
  },
  {
   "cell_type": "code",
   "execution_count": 5,
   "metadata": {},
   "outputs": [],
   "source": [
    "import spotterArtillery as sa\n",
    "\n",
    "# impliedSpotterArtillery(spotterToTargetAzimuth, spotterToTargetDistance, spotterToGunAzimuth, spotterToGunDistance)\n",
    "\n",
    "# sa.impliedSpotterArtillery(255,103,50,60)"
   ]
  },
  {
   "cell_type": "code",
   "execution_count": 6,
   "metadata": {},
   "outputs": [
    {
     "name": "stdout",
     "output_type": "stream",
     "text": [
      "Keep in mind multiple input responses should be space separated.\n",
      "Enter space delimited impactAzimuth and impactDistance\n",
      "\n",
      "s\n"
     ]
    },
    {
     "ename": "ValueError",
     "evalue": "could not convert string to float: 's'",
     "output_type": "error",
     "traceback": [
      "\u001b[1;31m---------------------------------------------------------------------------\u001b[0m",
      "\u001b[1;31mValueError\u001b[0m                                Traceback (most recent call last)",
      "\u001b[1;32m~\\AppData\\Local\\Temp/ipykernel_12496/3681047801.py\u001b[0m in \u001b[0;36m<module>\u001b[1;34m\u001b[0m\n\u001b[0;32m      3\u001b[0m \u001b[1;31m# impliedNoSpotterArtillery(unadjustedGunToTargetAzimuth, unadjustedGunToTargetDistance)\u001b[0m\u001b[1;33m\u001b[0m\u001b[1;33m\u001b[0m\u001b[0m\n\u001b[0;32m      4\u001b[0m \u001b[1;33m\u001b[0m\u001b[0m\n\u001b[1;32m----> 5\u001b[1;33m \u001b[0msa\u001b[0m\u001b[1;33m.\u001b[0m\u001b[0mimpliedNoSpotterArtillery\u001b[0m\u001b[1;33m(\u001b[0m\u001b[1;36m255\u001b[0m\u001b[1;33m,\u001b[0m\u001b[1;36m103\u001b[0m\u001b[1;33m)\u001b[0m\u001b[1;33m\u001b[0m\u001b[1;33m\u001b[0m\u001b[0m\n\u001b[0m",
      "\u001b[1;32mD:\\Programming\\Personal\\2b9d213a850917e150476cefdc28816abc6f407f1183888f534c8f4de35e03bc\\foxholeArtillery\\spotterArtillery.py\u001b[0m in \u001b[0;36mimpliedNoSpotterArtillery\u001b[1;34m(unadjustedGunToTargetAzimuth, unadjustedGunToTargetDistance)\u001b[0m\n\u001b[0;32m    626\u001b[0m     \u001b[0mprint\u001b[0m\u001b[1;33m(\u001b[0m\u001b[1;34m\"Enter space delimited impactAzimuth and impactDistance\"\u001b[0m\u001b[1;33m)\u001b[0m\u001b[1;33m\u001b[0m\u001b[1;33m\u001b[0m\u001b[0m\n\u001b[0;32m    627\u001b[0m     \u001b[0mimpactAziDist\u001b[0m \u001b[1;33m=\u001b[0m \u001b[0minput\u001b[0m\u001b[1;33m(\u001b[0m\u001b[1;34m\"\\n\"\u001b[0m\u001b[1;33m)\u001b[0m\u001b[1;33m.\u001b[0m\u001b[0msplit\u001b[0m\u001b[1;33m(\u001b[0m\u001b[1;33m)\u001b[0m\u001b[1;33m\u001b[0m\u001b[1;33m\u001b[0m\u001b[0m\n\u001b[1;32m--> 628\u001b[1;33m     \u001b[0mimpactAziDist\u001b[0m \u001b[1;33m=\u001b[0m \u001b[1;33m[\u001b[0m\u001b[0mfloat\u001b[0m\u001b[1;33m(\u001b[0m\u001b[0mx\u001b[0m\u001b[1;33m)\u001b[0m \u001b[1;32mfor\u001b[0m \u001b[0mx\u001b[0m \u001b[1;32min\u001b[0m \u001b[0mimpactAziDist\u001b[0m\u001b[1;33m]\u001b[0m\u001b[1;33m\u001b[0m\u001b[1;33m\u001b[0m\u001b[0m\n\u001b[0m\u001b[0;32m    629\u001b[0m     \u001b[0mimpliedWindAzimuth\u001b[0m\u001b[1;33m,\u001b[0m \u001b[0mimpliedWindDriftMeters\u001b[0m \u001b[1;33m=\u001b[0m \u001b[0mfindImpliedWindAziDist\u001b[0m\u001b[1;33m(\u001b[0m\u001b[0mimpactAziDist\u001b[0m\u001b[1;33m[\u001b[0m\u001b[1;36m0\u001b[0m\u001b[1;33m]\u001b[0m\u001b[1;33m,\u001b[0m \u001b[0mimpactAziDist\u001b[0m\u001b[1;33m[\u001b[0m\u001b[1;36m1\u001b[0m\u001b[1;33m]\u001b[0m\u001b[1;33m,\u001b[0m \u001b[0munadjustedGunToTargetAzimuth\u001b[0m\u001b[1;33m,\u001b[0m \u001b[0munadjustedGunToTargetDistance\u001b[0m\u001b[1;33m)\u001b[0m\u001b[1;33m\u001b[0m\u001b[1;33m\u001b[0m\u001b[0m\n\u001b[0;32m    630\u001b[0m \u001b[1;33m\u001b[0m\u001b[0m\n",
      "\u001b[1;32mD:\\Programming\\Personal\\2b9d213a850917e150476cefdc28816abc6f407f1183888f534c8f4de35e03bc\\foxholeArtillery\\spotterArtillery.py\u001b[0m in \u001b[0;36m<listcomp>\u001b[1;34m(.0)\u001b[0m\n\u001b[0;32m    626\u001b[0m     \u001b[0mprint\u001b[0m\u001b[1;33m(\u001b[0m\u001b[1;34m\"Enter space delimited impactAzimuth and impactDistance\"\u001b[0m\u001b[1;33m)\u001b[0m\u001b[1;33m\u001b[0m\u001b[1;33m\u001b[0m\u001b[0m\n\u001b[0;32m    627\u001b[0m     \u001b[0mimpactAziDist\u001b[0m \u001b[1;33m=\u001b[0m \u001b[0minput\u001b[0m\u001b[1;33m(\u001b[0m\u001b[1;34m\"\\n\"\u001b[0m\u001b[1;33m)\u001b[0m\u001b[1;33m.\u001b[0m\u001b[0msplit\u001b[0m\u001b[1;33m(\u001b[0m\u001b[1;33m)\u001b[0m\u001b[1;33m\u001b[0m\u001b[1;33m\u001b[0m\u001b[0m\n\u001b[1;32m--> 628\u001b[1;33m     \u001b[0mimpactAziDist\u001b[0m \u001b[1;33m=\u001b[0m \u001b[1;33m[\u001b[0m\u001b[0mfloat\u001b[0m\u001b[1;33m(\u001b[0m\u001b[0mx\u001b[0m\u001b[1;33m)\u001b[0m \u001b[1;32mfor\u001b[0m \u001b[0mx\u001b[0m \u001b[1;32min\u001b[0m \u001b[0mimpactAziDist\u001b[0m\u001b[1;33m]\u001b[0m\u001b[1;33m\u001b[0m\u001b[1;33m\u001b[0m\u001b[0m\n\u001b[0m\u001b[0;32m    629\u001b[0m     \u001b[0mimpliedWindAzimuth\u001b[0m\u001b[1;33m,\u001b[0m \u001b[0mimpliedWindDriftMeters\u001b[0m \u001b[1;33m=\u001b[0m \u001b[0mfindImpliedWindAziDist\u001b[0m\u001b[1;33m(\u001b[0m\u001b[0mimpactAziDist\u001b[0m\u001b[1;33m[\u001b[0m\u001b[1;36m0\u001b[0m\u001b[1;33m]\u001b[0m\u001b[1;33m,\u001b[0m \u001b[0mimpactAziDist\u001b[0m\u001b[1;33m[\u001b[0m\u001b[1;36m1\u001b[0m\u001b[1;33m]\u001b[0m\u001b[1;33m,\u001b[0m \u001b[0munadjustedGunToTargetAzimuth\u001b[0m\u001b[1;33m,\u001b[0m \u001b[0munadjustedGunToTargetDistance\u001b[0m\u001b[1;33m)\u001b[0m\u001b[1;33m\u001b[0m\u001b[1;33m\u001b[0m\u001b[0m\n\u001b[0;32m    630\u001b[0m \u001b[1;33m\u001b[0m\u001b[0m\n",
      "\u001b[1;31mValueError\u001b[0m: could not convert string to float: 's'"
     ]
    }
   ],
   "source": [
    "import spotterArtillery as sa\n",
    "\n",
    "# impliedNoSpotterArtillery(unadjustedGunToTargetAzimuth, unadjustedGunToTargetDistance)\n",
    "\n",
    "# sa.impliedNoSpotterArtillery(255,103)"
   ]
  },
  {
   "cell_type": "code",
   "execution_count": null,
   "metadata": {},
   "outputs": [],
   "source": [
    "import spotterArtillery as sa\n",
    "\n",
    "# impliedMultipleGunSpotterArtillery(spotterToTargetAzimuth, spotterToTargetDistance, spotterToGunsAziDist)\n",
    "\n",
    "# sa.impliedMultipleGunSpotterArtillery(254,65,[173,50,250,50])"
   ]
  }
 ],
 "metadata": {
  "kernelspec": {
   "display_name": "Python 3 (ipykernel)",
   "language": "python",
   "name": "python3"
  },
  "language_info": {
   "codemirror_mode": {
    "name": "ipython",
    "version": 3
   },
   "file_extension": ".py",
   "mimetype": "text/x-python",
   "name": "python",
   "nbconvert_exporter": "python",
   "pygments_lexer": "ipython3",
   "version": "3.10.1"
  }
 },
 "nbformat": 4,
 "nbformat_minor": 2
}
