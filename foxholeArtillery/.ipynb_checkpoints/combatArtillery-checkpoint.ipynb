{
 "cells": [
  {
   "cell_type": "code",
   "execution_count": null,
   "metadata": {},
   "outputs": [],
   "source": [
    "import spotterArtillery as sa\n",
    "# spotterArtillery()\n",
    "# Use case:\n",
    "    # 1 gun\n",
    "    # significant distance between spotter & gun\n",
    "\n",
    "# To use:\n",
    "    # uncomment function with <CTRL + L>\n",
    "    # Change variables\n",
    "    # <Shift + Enter> to run cell\n",
    "\n",
    "# input variables\n",
    "    # (spotterToTargetAzimuth, spotterToTargetDistance, spotterToGunAzimuth, spotterToGunDistance, windAzimuth, windForce, weaponType)\n",
    "    \n",
    "    # weaponType: 1 = 120mm & 150mm\n",
    "    # weaponType: 2 = storm cannon\n",
    "    # weaponType: 3 = mortar\n",
    "\n",
    "    # note can only take windForce values 1-3, when wind drift data is collected for wind 4 and 5, add to windForceMetersArray in findWindAdjustedGunToTargetAziDist function\n",
    "    # press <Space> to scroll to bottom to see output\n",
    "\n",
    "# sa.spotterArtillery(209,92,320,50,90,3,1)"
   ]
  },
  {
   "cell_type": "code",
   "execution_count": null,
   "metadata": {},
   "outputs": [],
   "source": [
    "import spotterArtillery as sa\n",
    "# noSpotterArtillery()\n",
    "# Use case:\n",
    "    # 1 gun or (neglible distance between spotter & gun)\n",
    "\n",
    "# To use:\n",
    "    # uncomment function with <CTRL + L>\n",
    "    # Change variables\n",
    "    # <Shift + Enter> to run cell\n",
    "\n",
    "# input variables\n",
    "    # (unadjustedGunToTargetAzimuth, unadjustedGunToTargetDistance, windAzimuth, windForce, weaponType)\n",
    "\n",
    "    # weaponType: 1 = 120mm & 150mm\n",
    "    # weaponType: 2 = storm cannon\n",
    "    # weaponType: 3 = mortar\n",
    "    \n",
    "    # note can only take windForce values 1-3, when wind drift data is collected for wind 4 and 5, add to windForceMetersArray in findWindAdjustedGunToTargetAziDist function\n",
    "    # press <Space> to scroll to bottom to see output\n",
    "\n",
    "\n",
    "# sa.noSpotterArtillery(171.6,710,315,3,2)"
   ]
  },
  {
   "cell_type": "code",
   "execution_count": null,
   "metadata": {},
   "outputs": [],
   "source": [
    "import spotterArtillery as sa\n",
    "# multipleGunSpotterArtillery()\n",
    "# Use case:\n",
    "    # multiple guns with significant distance betweens guns and (significant distance between spotter and gun)\n",
    "\n",
    "# To use:\n",
    "    # uncomment function with <CTRL + L>\n",
    "    # Change variables\n",
    "    # <Shift + Enter> to run cell\n",
    "\n",
    "# input variables\n",
    "    # (spotterToTargetAzimuth, spotterToTargetDistance, spotterToGunAzimuth, spotterToGunDistance, windAzimuth, windForce, weaponType)\n",
    "\n",
    "    # weaponType: 1 = 120mm & 150mm\n",
    "    # weaponType: 2 = storm cannon\n",
    "    # weaponType: 3 = mortar\n",
    "    \n",
    "    # argument 3: takes an array, which is composed of [spotterToGun1Azi, spotterToGun1Dist, spotterToGun2Azi, spotterToGun2Dist, ...]\n",
    "    \n",
    "    # note can only take wind values 1-3, when wind drift data is collected for wind 4 and 5, add to windForceMetersArray in findWindAdjustedGunToTargetAziDist function\n",
    "    # press <Space> to scroll to bottom to see output\n",
    "\n",
    "\n",
    "# sa.multipleGunSpotterArtillery(254,65,[173,50,250,50],124,3,3)"
   ]
  },
  {
   "cell_type": "code",
   "execution_count": null,
   "metadata": {},
   "outputs": [],
   "source": [
    "# All functions below are experimental\n",
    "# They all calculate implied windAzimuth and implied windForce for the wind adjusted values\n",
    "# They are the implied versions of the above functions"
   ]
  },
  {
   "cell_type": "code",
   "execution_count": null,
   "metadata": {},
   "outputs": [],
   "source": [
    "import spotterArtillery as sa\n",
    "\n",
    "# impliedSpotterArtillery(spotterToTargetAzimuth, spotterToTargetDistance, spotterToGunAzimuth, spotterToGunDistance)\n",
    "\n",
    "# sa.impliedSpotterArtillery(209,92,320,50)"
   ]
  },
  {
   "cell_type": "code",
   "execution_count": null,
   "metadata": {},
   "outputs": [],
   "source": [
    "import spotterArtillery as sa\n",
    "\n",
    "# impliedNoSpotterArtillery(unadjustedGunToTargetAzimuth, unadjustedGunToTargetDistance)\n",
    "\n",
    "# sa.impliedNoSpotterArtillery(0,4)"
   ]
  },
  {
   "cell_type": "code",
   "execution_count": null,
   "metadata": {},
   "outputs": [],
   "source": [
    "import spotterArtillery as sa\n",
    "\n",
    "# impliedMultipleGunSpotterArtillery(spotterToTargetAzimuth, spotterToTargetDistance, spotterToGunsAziDist)\n",
    "\n",
    "# sa.impliedMultipleGunSpotterArtillery(254,65,[173,50,250,50])"
   ]
  }
 ],
 "metadata": {
  "kernelspec": {
   "display_name": "Python 3 (ipykernel)",
   "language": "python",
   "name": "python3"
  },
  "language_info": {
   "codemirror_mode": {
    "name": "ipython",
    "version": 3
   },
   "file_extension": ".py",
   "mimetype": "text/x-python",
   "name": "python",
   "nbconvert_exporter": "python",
   "pygments_lexer": "ipython3",
   "version": "3.9.7"
  }
 },
 "nbformat": 4,
 "nbformat_minor": 2
}
